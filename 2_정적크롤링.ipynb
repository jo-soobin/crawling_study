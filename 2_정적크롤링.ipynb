{
  "cells": [
    {
      "cell_type": "markdown",
      "metadata": {
        "id": "view-in-github",
        "colab_type": "text"
      },
      "source": [
        "<a href=\"https://colab.research.google.com/github/jo-soobin/crawling_study/blob/master/2_%EC%A0%95%EC%A0%81%ED%81%AC%EB%A1%A4%EB%A7%81.ipynb\" target=\"_parent\"><img src=\"https://colab.research.google.com/assets/colab-badge.svg\" alt=\"Open In Colab\"/></a>"
      ]
    },
    {
      "cell_type": "markdown",
      "id": "787434b0-1096-47ce-9c3b-3205c7418108",
      "metadata": {
        "id": "787434b0-1096-47ce-9c3b-3205c7418108"
      },
      "source": [
        "# 라이브러리 BeautifulSoup\n",
        "- BeautifulSoup 라이브러리는 HTML 문설르 탐색해서 원하는 부분만 쉽게 뽑아낼 수 있게 해주는 라이브러리이다.\n",
        "\n",
        "## BeutifulSoup의 필요성\n",
        "\n",
        "\n"
      ]
    },
    {
      "cell_type": "markdown",
      "id": "140c1e4a-fc34-454b-881b-732f6926acf4",
      "metadata": {
        "id": "140c1e4a-fc34-454b-881b-732f6926acf4"
      },
      "source": [
        "### BeautifulSoup\n",
        "- 함수 BeautifulSoup()\n",
        "    - 문자열 HTML 코드를 실제 HTML 코드로 변환해주는 함수 BeautifulSoup\n",
        "\n",
        "```python\n",
        "BeautifulSoup(문자열, 'html.parser')\n",
        "```\n",
        "- 함수 find_all()\n",
        "    - find_all() 함수는 HTML 코드에서 우리가 원하는 부분을 모두 가져오는 함수\n",
        "    - 원하는 부분을 지정할 때 사용하는 것은 태그와 선택자\n",
        "    - find_all()은 해당 태그의 모든 HTML 코드를 리스트 형태로 반환\n",
        "\n",
        "```python\n",
        "# <div id=\"example1\">\n",
        "실제HTML코드.find_all(\"div\")\n",
        "실제HTML코드.find_all(id=\"example1\")\n",
        "\n",
        "# <div id=\"example1\">, <span class=\"example2\">\n",
        "실제HTML코드.find_all([\"div\", \"span\"])\n",
        "실제HTML코드.find_all(attrs = {\"id\":\"example1\", \"class\":\"example2\"})\n",
        "```\n",
        "\n",
        "- 함수 find()\n",
        "    - find() 함수는 딱 하나만 가져온다.\n",
        "\n",
        "```python\n",
        "# <div id=\"example1\">\n",
        "실제HTML코드.find(\"div\")\n",
        "실제HTML코드.find(id=\"example1\")\n",
        "실제HTML코드.find(attrs = {\"id\":\"example1\"})\n",
        "실제HTML코드.find(\"div\", {\"id\":\"example1\"})\n",
        "```\n",
        "\n"
      ]
    },
    {
      "cell_type": "markdown",
      "id": "b4fb138f-c40b-4a43-a981-9dbcd5eaadb2",
      "metadata": {
        "id": "b4fb138f-c40b-4a43-a981-9dbcd5eaadb2"
      },
      "source": [
        "#### 로또 당첨 확인"
      ]
    },
    {
      "cell_type": "code",
      "execution_count": 30,
      "id": "5b461f26-a3ca-49ed-a57b-0f8d9f70ec4b",
      "metadata": {
        "scrolled": true,
        "tags": [],
        "id": "5b461f26-a3ca-49ed-a57b-0f8d9f70ec4b",
        "colab": {
          "base_uri": "https://localhost:8080/"
        },
        "outputId": "e077f0b5-59f0-4f30-e532-cffbaab11234"
      },
      "outputs": [
        {
          "output_type": "stream",
          "name": "stdout",
          "text": [
            "8\n",
            "9\n",
            "20\n",
            "25\n",
            "29\n",
            "33\n",
            "7\n"
          ]
        }
      ],
      "source": [
        "from urllib.request import urlopen\n",
        "import requests\n",
        "from bs4 import BeautifulSoup as bs\n",
        "\n",
        "html = requests.get('https://dhlottery.co.kr/gameResult.do?method=byWin')\n",
        "soup = bs(html.text, 'html.parser')\n",
        "\n",
        "lot_soup = soup.find('div')\n",
        "lot_nums = soup.find(class_='nums')\n",
        "lot_nums = lot_nums.find_all('span')\n",
        "\n",
        "for i in lot_nums:\n",
        "  print(i.text)"
      ]
    },
    {
      "cell_type": "markdown",
      "id": "94285171-ea20-435c-9631-b121a63f86d0",
      "metadata": {
        "id": "94285171-ea20-435c-9631-b121a63f86d0"
      },
      "source": [
        "##### 크롤링 대상 사이트 살펴보기\n",
        "- https://search.hankyung.com/apps.frm/search.news?query=%EC%BD%94%EB%A1%9C%EB%82%98&page=1\n",
        "- url 패턴 : query=\"검색값\"&page=\"페이지값\"임을 알 수 있다. \n",
        "- html 태그\n",
        "    - \\<ul class=\"article\">\n",
        "    - \\<ul class=\"article\">\n",
        "    - \\<li> 태그 속 <em class=\"tit\"> "
      ]
    },
    {
      "cell_type": "code",
      "execution_count": 49,
      "id": "d39609dc-1fd0-4b14-a36f-23717ce6ff6c",
      "metadata": {
        "id": "d39609dc-1fd0-4b14-a36f-23717ce6ff6c",
        "colab": {
          "base_uri": "https://localhost:8080/"
        },
        "outputId": "3472f963-c96f-4edd-a0fc-f3d395e7bcba"
      },
      "outputs": [
        {
          "output_type": "stream",
          "name": "stdout",
          "text": [
            "[바이오 컴퍼니 2022] 동국제약, 인사돌 등 블록버스터 다수 보유 2022.07.28 14:48\n",
            "[바이오 컴퍼니 2022] 동성제약, 의약품부터 기능성 화장품까지 2022.07.28 14:47\n",
            "일본 최근 일주일간 코로나 신규확진 100만명 육박 2022.07.28 14:45\n",
            "\"하계 전지훈련 명소\" 구례군, 7월 한 달 5천여명 유치 2022.07.28 14:32\n",
            "[칼럼] 개인사업자가 법인사업자로 전환하는 가장 큰 이유 2022.07.28 14:28\n",
            "[칼럼] 중소기업 절세, 어떤 방법이 있을까? 2022.07.28 14:28\n",
            "이병헌 \"청룡열차 같은 '비상선언', 시나리오 재밌어 출연 결심\" [인터뷰③] 2022.07.28 14:25\n",
            "인천교통공사·전남개발공사 등 22개 지방공기업 실적 '우수' 2022.07.28 14:25\n",
            "中봉쇄 여파로 아모레퍼시픽그룹 2분기 영업손실 109억…적자전환(종합) 2022.07.28 14:15\n",
            "모멘텀이 필요해…삼성전자 체크포인트 '3가지' 2022.07.28 14:15\n"
          ]
        }
      ],
      "source": [
        "html = requests.get('https://search.hankyung.com/apps.frm/search.news?query=%EC%BD%94%EB%A1%9C%EB%82%98')\n",
        "soup = bs(html.text, 'html.parser')\n",
        "\n",
        "articles = soup.find('ul', {'class':'article'})\n",
        "title = articles.find_all('em',{'class':'tit'})\n",
        "date_time = articles.find_all('span',{'class':'date_time'})\n",
        "\n",
        "for tit, time in zip(title, date_time):\n",
        "  print(tit.text, time.text)"
      ]
    },
    {
      "cell_type": "markdown",
      "id": "be9a52e2-7514-45b7-b88b-14ea0c0fef8f",
      "metadata": {
        "id": "be9a52e2-7514-45b7-b88b-14ea0c0fef8f"
      },
      "source": [
        "<img src=\"https://blog.kakaocdn.net/dn/caNQvW/btq4JfrNJfP/zdIHGBlZFZr26k2XeHJhbK/img.png\">\n",
        "- https://it-eldorado.tistory.com/143"
      ]
    }
  ],
  "metadata": {
    "kernelspec": {
      "display_name": "Python 3 (ipykernel)",
      "language": "python",
      "name": "python3"
    },
    "language_info": {
      "codemirror_mode": {
        "name": "ipython",
        "version": 3
      },
      "file_extension": ".py",
      "mimetype": "text/x-python",
      "name": "python",
      "nbconvert_exporter": "python",
      "pygments_lexer": "ipython3",
      "version": "3.9.12"
    },
    "colab": {
      "name": "2_0_정적크롤링.ipynb의 사본",
      "provenance": [],
      "include_colab_link": true
    }
  },
  "nbformat": 4,
  "nbformat_minor": 5
}