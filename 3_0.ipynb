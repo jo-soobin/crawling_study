{
 "cells": [
  {
   "cell_type": "markdown",
   "id": "28d35783-3ca9-45eb-8083-527c1725634c",
   "metadata": {
    "id": "28d35783-3ca9-45eb-8083-527c1725634c"
   },
   "source": [
    "# 셀레니움(Selenium)\n",
    "- Selenium은 주로 웹앱을 테스트하는데 사용하는 프레임워크\n",
    "- webdriver라는 API를 통해 운영체제에 설치된 크롬 등의 브라우저를 제어\n",
    "- Selenium 모듈 설치 후 사용\n",
    "- 사용자 브라우저(Chrome, Edge, ..)에 맞는 webdriver를 다운로드 후 사용 가능\n",
    "- 다운로드 사이트에서 본인이 사용하는 브라우저의 버전등을 확인 후 다운로드\n",
    "- 크롬: https://chromedriver.chromium.org/downloads\n",
    "- Edge: https://developer.microsoft.com/en-us/microsoft-edge/tools/webdriver/\n",
    "- 파이어폭스:https://github.com/mozilla/geckodriver/releases\n",
    "\n",
    "__주의__\n",
    "최근 없데이트되면서 문법 변경됨"
   ]
  },
  {
   "cell_type": "markdown",
   "id": "34428aca-ccb6-47a4-b763-0d511b0c9298",
   "metadata": {
    "id": "34428aca-ccb6-47a4-b763-0d511b0c9298"
   },
   "source": [
    "## webdriver\n",
    "- selenium의 webdriver는 웹 응용 프로그램들의 테스트를 단순화 및 가속화해주는 툴\n",
    "\n",
    "### 크롬 드라이브 다운\n",
    "1. 크롬 브라우저 버전을 확인한다.(크롬브라우저 점3개 클릭-도움말-정보)\n",
    "2. 동일버전의 webdriver을 다운로드 [driver](https://chromedriver.chromium.org/downloads)\n",
    "3. ./tools/chromedirver.exe"
   ]
  },
  {
   "cell_type": "code",
   "execution_count": null,
   "id": "4c668dbd-728b-451a-a3e6-ff1a18801551",
   "metadata": {
    "id": "4c668dbd-728b-451a-a3e6-ff1a18801551"
   },
   "outputs": [
    {
     "name": "stdout",
     "output_type": "stream",
     "text": [
      "Requirement already satisfied: selenium in c:\\users\\soobin\\anaconda3\\envs\\week1\\lib\\site-packages (4.3.0)\n",
      "Requirement already satisfied: trio~=0.17 in c:\\users\\soobin\\anaconda3\\envs\\week1\\lib\\site-packages (from selenium) (0.21.0)\n",
      "Requirement already satisfied: trio-websocket~=0.9 in c:\\users\\soobin\\anaconda3\\envs\\week1\\lib\\site-packages (from selenium) (0.9.2)\n",
      "Requirement already satisfied: urllib3[secure,socks]~=1.26 in c:\\users\\soobin\\anaconda3\\envs\\week1\\lib\\site-packages (from selenium) (1.26.9)\n",
      "Requirement already satisfied: outcome in c:\\users\\soobin\\anaconda3\\envs\\week1\\lib\\site-packages (from trio~=0.17->selenium) (1.2.0)\n",
      "Requirement already satisfied: sniffio in c:\\users\\soobin\\anaconda3\\envs\\week1\\lib\\site-packages (from trio~=0.17->selenium) (1.2.0)\n",
      "Requirement already satisfied: sortedcontainers in c:\\users\\soobin\\anaconda3\\envs\\week1\\lib\\site-packages (from trio~=0.17->selenium) (2.4.0)\n",
      "Requirement already satisfied: async-generator>=1.9 in c:\\users\\soobin\\anaconda3\\envs\\week1\\lib\\site-packages (from trio~=0.17->selenium) (1.10)\n",
      "Requirement already satisfied: cffi>=1.14 in c:\\users\\soobin\\anaconda3\\envs\\week1\\lib\\site-packages (from trio~=0.17->selenium) (1.15.0)\n",
      "Requirement already satisfied: attrs>=19.2.0 in c:\\users\\soobin\\anaconda3\\envs\\week1\\lib\\site-packages (from trio~=0.17->selenium) (21.4.0)\n",
      "Requirement already satisfied: idna in c:\\users\\soobin\\anaconda3\\envs\\week1\\lib\\site-packages (from trio~=0.17->selenium) (3.3)\n",
      "Requirement already satisfied: wsproto>=0.14 in c:\\users\\soobin\\anaconda3\\envs\\week1\\lib\\site-packages (from trio-websocket~=0.9->selenium) (1.1.0)\n",
      "Requirement already satisfied: PySocks!=1.5.7,<2.0,>=1.5.6 in c:\\users\\soobin\\anaconda3\\envs\\week1\\lib\\site-packages (from urllib3[secure,socks]~=1.26->selenium) (1.7.1)\n",
      "Requirement already satisfied: certifi in c:\\users\\soobin\\anaconda3\\envs\\week1\\lib\\site-packages (from urllib3[secure,socks]~=1.26->selenium) (2022.6.15)\n",
      "Requirement already satisfied: cryptography>=1.3.4 in c:\\users\\soobin\\anaconda3\\envs\\week1\\lib\\site-packages (from urllib3[secure,socks]~=1.26->selenium) (37.0.1)\n",
      "Requirement already satisfied: pyOpenSSL>=0.14 in c:\\users\\soobin\\anaconda3\\envs\\week1\\lib\\site-packages (from urllib3[secure,socks]~=1.26->selenium) (22.0.0)\n",
      "Requirement already satisfied: pycparser in c:\\users\\soobin\\anaconda3\\envs\\week1\\lib\\site-packages (from cffi>=1.14->trio~=0.17->selenium) (2.21)\n",
      "Requirement already satisfied: h11<1,>=0.9.0 in c:\\users\\soobin\\anaconda3\\envs\\week1\\lib\\site-packages (from wsproto>=0.14->trio-websocket~=0.9->selenium) (0.13.0)\n"
     ]
    }
   ],
   "source": [
    "!pip install selenium"
   ]
  },
  {
   "cell_type": "code",
   "execution_count": null,
   "id": "6aaa226d-22f1-47b6-a727-032fb006a32a",
   "metadata": {},
   "outputs": [],
   "source": [
    "from selenium import webdriver\n",
    "import time"
   ]
  },
  {
   "cell_type": "code",
   "execution_count": null,
   "id": "6a45a351-c8ec-4c51-9b98-b9b6cb45b5a2",
   "metadata": {},
   "outputs": [
    {
     "name": "stderr",
     "output_type": "stream",
     "text": [
      "C:\\Users\\SOOBIN\\AppData\\Local\\Temp\\ipykernel_12200\\1977823345.py:1: DeprecationWarning: executable_path has been deprecated, please pass in a Service object\n",
      "  driver = webdriver.Chrome('./chromedriver.exe')\n"
     ]
    }
   ],
   "source": [
    "driver = webdriver.Chrome('./chromedriver.exe')\n",
    "naver_url = 'https://www.naver.com'\n",
    "driver.get(naver_url)\n",
    "time.sleep(5)\n",
    "driver.close() #꼭 꺼주"
   ]
  },
  {
   "cell_type": "markdown",
   "id": "abda1f17-29d5-4f12-8142-3f66ff06c93a",
   "metadata": {
    "id": "abda1f17-29d5-4f12-8142-3f66ff06c93a"
   },
   "source": [
    "### selenium 내장함수\n",
    "\n",
    "#### 1. get()\n",
    "- get() 함수는 입력한 url 주소로 접속하는 함수\n",
    "\n",
    "```python\n",
    "driver.get(\"url 주소\")\n",
    "```\n",
    "\n",
    "#### 2. find_element(By.<location>, \"\")\n",
    "- 정적크롤링의 find과 같은 역할로, 크롤링을 위해 HTML 요소를 찾는 함수\n",
    "```python\n",
    "from selenium.webdriver.common.by import By\n",
    "\n",
    "find_element(By.ID, \"id\")\n",
    "find_element(By.NAME, \"name\")\n",
    "find_element(By.XPATH, \"xpath\")\n",
    "find_element(By.LINK_TEXT, \"link text\")\n",
    "find_element(By.PARTIAL_LINK_TEXT, \"partial link text\")\n",
    "find_element(By.TAG_NAME, \"tag name\")\n",
    "find_element(By.CLASS_NAME, \"class name\")\n",
    "find_element(By.CSS_SELECTOR, \"css selector\")\n",
    "```\n",
    "\n",
    "__참고__ :  구버전의 find_element_by_ ?? 에서 변경되었다. \n",
    "\n",
    "예) find_element(By.CSS_SELECTOR, \"css selector\") \n",
    "- copy 목록의 copy selector를 통해 속성을 찾을 수 있다.\n",
    "```python\n",
    "driver.find_element(By.CSS_SELECTOR, \"a#writeFormBtn\")\n",
    "```\n",
    "\n",
    "    \n",
    "예) find_element(By.ID, \"id\") & find_element(By.CLASS_NAME, \"class name\")\n",
    "- id 속성 혹은 class 속성을 가지고 있는 경우 사용한다.\n",
    "\n",
    "```python    \n",
    "'글쓰기' 버튼 - <a href=\"#\" id=\"writeFormBtn\" class=\"btn_type1 post_write _rosRestrict\" onclick=\"clickcr(this,'abt.wrtlist', '', '', event);\">\n",
    "\n",
    "driver.find_element(By.ID, \"writeFormBtn\")\n",
    "driver.find_element(By.CLASS_NAME, \"btn_type1.post_write._rosRestrict\")\n",
    "```\n",
    "\n",
    "예) find_element(By.XPATH, \"xpath\")\n",
    "- 적당한 id, class 속성이 없을 경우 xpath를 사용가능 \n",
    "- XPATH란 xml 문서의 특정 부분의 위치를 의미한다.\n",
    "- html 요소를 우클릭하고 copy 목록의 copy xpath를 클릭해 사용가능\n",
    "\n",
    "```python\n",
    "driver.find_element(By.XPATH, 'XPath 선택자')\n",
    "\n",
    "# ex) '글쓰기' 버튼의 'Copy XPath'결과 - //*[@id=\"writeFormBtn\"]\n",
    "driver.find_element_by_xpath('//*[@id=\"writeFormBtn\"]')\n",
    "```"
   ]
  },
  {
   "cell_type": "markdown",
   "id": "623df7c7-342c-4f64-b14c-bdd5c69c821a",
   "metadata": {
    "id": "623df7c7-342c-4f64-b14c-bdd5c69c821a"
   },
   "source": [
    "#### 3. find_elements_by_?? ()\n",
    "- 정적 크롤링의 find_all과 같은 역할로, 입력한 태그 및 선택자에 해당하는 모든 html 요소를 찾는 함수이다. \n",
    "- element 뒤에 s가 붙는다. \n",
    "\n",
    "\n",
    "\n",
    "#### 4. click()\n",
    "- html 요소를 클릭하는 함수이다.\n",
    "\n",
    "```python\n",
    "driver.find_element(By.???, \"????\").click()\n",
    "\n",
    "ex) 글쓰기 버튼 클릭\n",
    "driver.find_element(By.CSS_SELECTOR,\"a#writeFormBtn\").click()\n",
    "```\n",
    "\n",
    "#### 5. send_keys()\n",
    "- html 요소에 직접 텍스트를 입력하는 함수이다.\n",
    "\n",
    "```python\n",
    "driver.find_element_by_??().send_keys(\"텍스트\")\n",
    "\n",
    "ex) 검색 칸에 파이썬 입력\n",
    "driver.find_element_by_css_selector(\"input#query\").send_keys(\"파이썬\")\n",
    "```\n",
    "\n"
   ]
  },
  {
   "cell_type": "code",
   "execution_count": null,
   "id": "cc4ebc74-2efe-4064-b5dc-1de30e149d0f",
   "metadata": {
    "id": "cc4ebc74-2efe-4064-b5dc-1de30e149d0f"
   },
   "outputs": [
    {
     "name": "stderr",
     "output_type": "stream",
     "text": [
      "C:\\Users\\SOOBIN\\AppData\\Local\\Temp\\ipykernel_12200\\1292605312.py:3: DeprecationWarning: executable_path has been deprecated, please pass in a Service object\n",
      "  driver = webdriver.Chrome('./chromedriver.exe')\n"
     ]
    },
    {
     "name": "stdout",
     "output_type": "stream",
     "text": [
      "검색어를 입력하세요 python\n"
     ]
    }
   ],
   "source": [
    "from selenium.webdriver.common.by import By\n",
    "from bs4 import BeautifulSoup as bs\n",
    "driver = webdriver.Chrome('./chromedriver.exe')\n",
    "naver_url = 'https://www.naver.com'\n",
    "driver.get(naver_url)\n",
    "time.sleep(1)\n",
    "search_text = input('검색어를 입력하세요')\n",
    "driver.find_element(By.ID, 'query').send_keys(search_text)\n",
    "driver.find_element(By.ID, 'search_btn').click()\n",
    "time.sleep(1)\n",
    "html = driver.page_source\n",
    "soup = bs(html, 'html.parser')\n",
    "driver.close() #꼭 꺼주기"
   ]
  },
  {
   "cell_type": "code",
   "execution_count": null,
   "id": "88fd755e-b563-4096-b55f-11f079f323ba",
   "metadata": {
    "scrolled": true,
    "tags": []
   },
   "outputs": [
    {
     "data": {
      "text/plain": [
       "'         탑건 : 네이버 통합검색          메뉴 영역으로 바로가기 본문 영역으로 바로가기        NAVER   검색                  한글 입력기     자동완성 레이어     최근검색어  전체삭제       @txt@   @date@. 삭제    검색어 저장 기능이 꺼져 있습니다.설정이 초기화 된다면 도움말을 확인해주세요. 최근 검색어 내역이 없습니다.설정이 초기화 된다면 도움말을 확인해주세요.    도움말    자동저장 끄기                자세히보기      관심사를 반영한 컨텍스트 자동완성도움말   컨텍스트 자동완성   컨텍스트 자동완성  ON/OFF 설정은해당기기(브라우저)에 저장됩니다.  자세히    동일한 시간대/연령/남녀별 사용자 그룹의관심사에 맞춰 자동완성을 제공합니다.  로그인 자세히   컨텍스트 자동완성 레이어 닫기      도움말 신고    자동완성 끄기        검색    사용자 링크로그인 내정보 보기(임직원혜택)프로필 사진 변경_님로그아웃@naver.com네이버ID보안설정내인증서네이버 멤버쉽N Pay내 페이포인트내 블로그가입한 카페N Pay환경설정알림전체 알림읽은 알림 삭제모두 삭제알림을 모두 삭제하시겠습니까?확인취소레이어 닫기내 알림 전체보기메일서비스 더보기나만의 즐겨찾기를 추가해 보세요!닫기즐겨찾는 서비스추가추가추가추가즐겨찾기 설정삭제카페뉴스지도스포츠게임블로그포스트사전지식iN날씨메일증권부동산VIBE책쇼핑웹툰영화MYBOX자동차전체 서비스 보기네이버 주요 서비스바로가기 설정전체 서비스 보기 게임 날씨 네이버쇼핑 네이버캐스트 네이버페이New 네이버 MYBOX 뉴스 웹툰 메모 메일 뮤직 부동산 북마크 블로그 사전 소프트웨어 스마트보드 스포츠 시리즈 시리즈on 야구9단 영화 오피스 웹소설 자동차 주소록 증권(금융) 지도 지식iN 지식백과 책 카페 캘린더 네이버TV어학사전 국어사전 영어/영영사전 한자사전 일어사전 중국어사전 프랑스어사전 독일어사전 러시아어사전 베트남어사전 스페인어사전 파파고인기/신규서비스 그라폴리오 포스트 밴드 라인 VIBENew 프리미엄콘텐츠확인취소초기 설정으로 변경     통합이미지VIEW지식iN인플루언서동영상쇼핑뉴스어학사전지도     더보기    도서뮤직지식백과오디오클립학술정보  검색옵션        공유     탑건 통합검색 결과        검색옵션 닫기    정렬  관련도순최신순      기간  전체1시간1일1주1개월3개월6개월1년 직접입력옵션펼치기접기     기간 설정시작 2022.07.29.      기간 설정끝 2022.07.29.     년(Year)    199019911992199319941995199619971998199920002001200220032004200520062007200820092010201120122013201420152016201720182019202020212022      월(Month)    1234567      일(Day)    1234567891011121314151617181920212223242526272829       적용        옵션초기화 검색옵션 가이드              탑건: 매버릭상영중   펴고 접기       영화  Top Gun: Maverick  2021     문서 저장하기   Keep에 저장 Keep 바로가기         전체     기본정보     상영일정     평점     무비클립     포토     리뷰     명대사     시리즈     추천영화      이전 다음             동영상 바로재생 톰 크루즈 대한민국 감사 인사 영상        동영상 바로재생 마일즈 텔러 100만 돌파 축하 영상        동영상 바로재생 땡큐 코리아 내한 소감 영상        동영상 바로재생 어메이징 극찬 예고편       이어서더보기       이전 다음    기본정보 더보기        개요 액션미국130분   개봉 2022.06.22.    최고의 파일럿이자 전설적인 인물 매버릭(톰 크루즈)은 자신이 졸업한 훈련학교 교관으로 발탁된다. 그의 명성을 모르던 팀원들은 매버릭의 지시를 무시하지만 실전을 방불케 하는 상공 훈련에서 눈으로 봐도 믿기 힘든 전설적인 조종 실력에 모두가 압도된다. 매버릭의 ... 더보기      3위 박스오피스     9.60   관람객 평점    675만명 누적 관객수       예매하기       좋아요0      정보오류 수정요청   네이버 영화정보확인 내용 열고 닫기  네이버가 운영하는 영화 서비스입니다. 관객수는 영화진흥위원회 통합전산망 데이터로 업데이트되고 있습니다. 영화진흥위원회에서는 2005년 이후 개봉 영화부터 정확한 관객수를 집계하고 있어 이전 개봉 영화의 경우 관객수 데이터가 제공되지 않는 점 이용에 참고 부탁드립니다. 정보확인 레이어 닫기  다른 사이트 더보기         평점   관람추이   더보기   평점          42 23 18 14 3              정보를 가져오는 중입니다.    미지원 환경입니다.   일시적인 오류가 발생했습니다. 잠시 후 다시 이용해주세요.    OST 스토리 연출   영상미 연기                                     별점(10점 만점 중)10  평점 잘 안주는데 만점 줄려고 왔다   작성자 rhkd****                                   별점(10점 만점 중)10  영화관이 필요한 이유   작성자 jong****                                   별점(10점 만점 중)10  중국 애들은 불쌍타 나라 잘못 만나서 이런 영화를 극장에서 못보다니 ㅋㅋ   작성자 real****                                   별점(10점 만점 중)10  감동의눈물 나올정도입니다. 평점10점급임. 내가 전투기 탄 기분이였음   작성자 jong****                                   별점(10점 만점 중)10  탑건1(1986년)의 36년만의 나온 속편. 매우 만족 스러웠고 매우 재밌었다 무조건 특별관에서 봐야되는 영화 2022년 개봉작 영화중에서 범죄도시2 이후 2번째로 엄청 좋았던 영화 톰 크루즈 미모는 여전히 잘생겼다 1편을 보고 가야되는 질문에서 답을 하자면 1편 보고 가는게 더 좋다 감동도 2배 더 느낄 수 있음   작성자 fowe****                                   별점(10점 만점 중)10  이 시대의 마지막 액션스타, \"톰 크루즈\"   작성자 jydp****                                   별점(10점 만점 중)10  다른 말이 필요한가 레.전.드   작성자 scot****                                   별점(10점 만점 중)10  개쩐다 말이 필요없음 직접확인   작성자 scm0****                                   별점(10점 만점 중)10  감동까지 겸비한 최고의 블록버스터   작성자 mais****                                   별점(10점 만점 중)10  지린다... 지려 할말이 없게 만듬..   작성자 at96****       이전 다음   관람추이     성별 관람추이                정보를 가져오는 중입니다.    미지원 환경입니다.   일시적인 오류가 발생했습니다. 잠시 후 다시 이용해주세요.    남자 여자        나이별 관람추이   10대    2%   20대    33%   30대    38%   40대    21%   50대    6%             관련 영화 추천  더보기                토르: 러브 앤 썬더   2022 개봉              스파이더헤드                미션 임파서블: 폴아웃   2018 개봉              온리 더 브레이브   2018 개봉              아메리칸 메이드   2017 개봉              오블리비언   2013 개봉              어벤져스: 엔드게임   2019 개봉              외계+인 1부   2022 개봉              잭 리처: 네버 고 백   2016 개봉              인서전트   2015 개봉       이전 다음                   VIEW   전체 블로그 카페  기본뷰 타임라인뷰 멀티미디어뷰       전체   카페글   항공   전투기   촬영   감독   영화음악   조종사   공군   월드오브탱크   줄거리   예고편   topgun   이전 다음           문서 저장하기  Keep에 저장 Keep 바로가기        2022.06.22.  사진은 권력이다  탑건2 매버릭 액션도 찐, 재미도 찐, 마무리도 찐한 영화    탑건2는 그런 걱정이 없습니다. CG를 전혀 사용하지 않은 건 아니지만 실제 액션 장면들이 꽤 많습니다. 또한 실제 영상을 짜깁기 할지언정 실제 비행 장면들이 꽤 많이 나옵니다. 특히 CG로 표현해도 될 전투기 조정석...   14    탑건 매버릭에서 나온 머스탱기는 톰 크루즈 내돈내산 전투기      문서 저장하기  Keep에 저장 Keep 바로가기        인플루언서2022.07.20.  Der Sinn des Lebens  영화 탑건 2 매버릭 4DX 리뷰 페니 딸 아멜리아!    탑건 매버릭 4d로 보는 건 여전히 유효한 CGV 지점들이 많다. 수원 광교 씨지브이도 여전히 계속 상영중에 있고. 용산 포디엑스가 좋긴 한데 수원에서 용산아이파크몰까지 가려면 맘먹고 가야하기에 그냥 집 근처 광교CGV...   14   #탑건매버릭 #탑건매버릭4dx #탑건매버릭4d #탑건매버릭딸 #영화탑건매버릭 #탑건2 #영화탑건2 #탑건매버릭아멜리아 #영화탑건2페니 #탑건매버릭페니딸   영화 탑건 매버릭 쿠키 영상 탑건2 후기 평점정보(#탑건매버릭쿠키 #탑건2쿠키) 영화 탑건2 매버릭 개봉일 아이맥스 예매 용산 고(#탑건매버릭 #탑건매버릭개봉일)   함께 볼만한 검색어  이 정보가 표시된 이유  문서를 기반으로 함께 볼만한 검색어를 분석하여 제공하는 서비스입니다.  피드백 제공하기도움말  정보확인 레이어 닫기         탑건: 매버릭   함께 볼만한 검색어 닫기   함께 볼만한 검색어  이 정보가 표시된 이유  문서를 기반으로 함께 볼만한 검색어를 분석하여 제공하는 서비스입니다.  피드백 제공하기도움말  정보확인 레이어 닫기         탑건: 매버릭   함께 볼만한 검색어 닫기   함께 볼만한 검색어  이 정보가 표시된 이유  문서를 기반으로 함께 볼만한 검색어를 분석하여 제공하는 서비스입니다.  피드백 제공하기도움말  정보확인 레이어 닫기         탑건: 매버릭   함께 볼만한 검색어 닫기      문서 저장하기  Keep에 저장 Keep 바로가기        2022.06.25.  가가하우징 신축빌라 분양 정보  액션 영화 탑건: 매버릭 정보, 후기    탑건: 매버릭 정보와 후기 Top Gun Maverick 미국 / 액션 / 2021 영화 정보 고전 명작 액션 영화 탑건(1986)의 후속작으로 36년만에 등장한 탑건: 매버릭. 1편의 감독 토니 스콧은 고인이 되셨고. 이번 2편의 경우 조셉 코신스키...   23   #탑건 #탑건매버릭   함께 볼만한 검색어  이 정보가 표시된 이유  문서를 기반으로 함께 볼만한 검색어를 분석하여 제공하는 서비스입니다.  피드백 제공하기도움말  정보확인 레이어 닫기         탑건: 매버릭   함께 볼만한 검색어 닫기      문서 저장하기  Keep에 저장 Keep 바로가기        인플루언서2022.06.26.  레드써니의 Project-R  영화추천 [탑건: 매버릭] 4DX 후기 리뷰 – 내 인생 최고의 4D 영화    이 중 진짜 탄성을 연발하는 부분은 후반부 미사일과 탑건 조종사들이 벌이는 공중전입니다. 영화에서도 가장 임팩트 넘치는 장면인데, 4DX 효과도 그렇습니다. 의자가 엄청 움직이는 건 기본, 정말 너무 많이 움직여서...   9   #탑건 #탑건2 #탑건매버릭 #4DX #4D #탑건매버릭4DX #탑건매버릭4D후기 #영화추천 #추천영화   [탑건: 매버릭] 정보 리뷰 후기 – 탑[!] 크루즈가 완성한 할리우드 블록버스터의 클래식이자 클래스(#탑건 #탐크루즈) ‘탑건이 아니라 탑크루즈 였네!’ <탑건: 매버릭> 보기 전 알고보면 좋은 <탑건> 리뷰 정보와 관계도(#탑건 #탑건2)   함께 볼만한 검색어  이 정보가 표시된 이유  문서를 기반으로 함께 볼만한 검색어를 분석하여 제공하는 서비스입니다.  피드백 제공하기도움말  정보확인 레이어 닫기         탑건: 매버릭   함께 볼만한 검색어 닫기   함께 볼만한 검색어  이 정보가 표시된 이유  문서를 기반으로 함께 볼만한 검색어를 분석하여 제공하는 서비스입니다.  피드백 제공하기도움말  정보확인 레이어 닫기         탑건: 매버릭   함께 볼만한 검색어 닫기   함께 볼만한 검색어  이 정보가 표시된 이유  문서를 기반으로 함께 볼만한 검색어를 분석하여 제공하는 서비스입니다.  피드백 제공하기도움말  정보확인 레이어 닫기         탑건: 매버릭   함께 볼만한 검색어 닫기      문서 저장하기  Keep에 저장 Keep 바로가기        인플루언서6일 전  처뤼의 아로새기다  [영화뉴스] 탑건 600만명 돌파, 올해 외화 흥행 1위 / <존 윅 4>, <할로윈 킬즈> 예고편 / 넷플릭스 <유유백서...    <탑건 매버릭> 관객 수 600만명 돌파, 2022년 외화 흥행 1위 등극 역주행 흥행을 기록 중인 \\'톰 크루즈\\'의 약 36년 만의 속편 영화 <탑건:매버릭>이 마침내! 600만 명의 관객 수를 돌파하면서 2022년 개봉한 외화 영화 중에서는...   14   #탑건 #탑건매버릭 #톰크루즈 #탑건매버릭600만명 #속편영화 #시리즈영화 #존윅4 #키아누리브스 #매트릭스리저렉션 #존윅4예고편   [탑건:매버릭] 후기-부모님의 손을 잡고 함께 관람하면 좋을 노스탤지어 속편 영화(쿠키 영상 없음)(#탑건 #탑건1) [영화뉴스] <탑건:매버릭> 500만명 돌파 / <오펀 퍼스트 킬> 예고편 공개 / 티빙+KT 시즌 12월 합병 / <바이오...(#영화 #영화뉴스)   함께 볼만한 검색어  이 정보가 표시된 이유  문서를 기반으로 함께 볼만한 검색어를 분석하여 제공하는 서비스입니다.  피드백 제공하기도움말  정보확인 레이어 닫기         탑건: 매버릭        귀멸의 칼날: 장구저택 편   함께 볼만한 검색어 닫기   함께 볼만한 검색어  이 정보가 표시된 이유  문서를 기반으로 함께 볼만한 검색어를 분석하여 제공하는 서비스입니다.  피드백 제공하기도움말  정보확인 레이어 닫기         탑건: 매버릭   함께 볼만한 검색어 닫기   함께 볼만한 검색어  이 정보가 표시된 이유  문서를 기반으로 함께 볼만한 검색어를 분석하여 제공하는 서비스입니다.  피드백 제공하기도움말  정보확인 레이어 닫기         탑건: 매버릭        오펀: 천사의 비밀        레지던트 이블: 라쿤시티    이전 다음 함께 볼만한 검색어 닫기      문서 저장하기  Keep에 저장 Keep 바로가기        인플루언서6일 전  영화를 소개하는 남자  알고 보면 더 재밌다! 영화 <탑건: 매버릭> 10가지 비하인드 정보 4DX    <탑건: 매버릭>의 상영이 어느덧 한달이 지난 시점 마지막으로 전해 드리는 영화의 소소한 비하인드 정보!... 그래도 결국 그날 맛있는 건 많이 먹었지만, 재촬영을 위해 더 혹독한 트레이닝을 진행했다고 하네요. \\'음식까지...   31   #탑건 #탑건1 #탑건2 #영화 #탑건매버릭 #영화추천 #개봉영화 #영화탑건 #탑건매버릭4DX #4DX   영화 <탑건: 매버릭> 탑건2 4DX 2D 스포일러 없는 후기 평점 (쿠키)(#탑건 #영화추천)   함께 볼만한 검색어  이 정보가 표시된 이유  문서를 기반으로 함께 볼만한 검색어를 분석하여 제공하는 서비스입니다.  피드백 제공하기도움말  정보확인 레이어 닫기         탑건: 매버릭   함께 볼만한 검색어 닫기   함께 볼만한 검색어  이 정보가 표시된 이유  문서를 기반으로 함께 볼만한 검색어를 분석하여 제공하는 서비스입니다.  피드백 제공하기도움말  정보확인 레이어 닫기         탑건: 매버릭   함께 볼만한 검색어 닫기      문서 저장하기  Keep에 저장 Keep 바로가기        인플루언서2022.07.15.  시간의마법사  [영화리뷰] 탑건: 매버릭 후기_저도 \\'탑건 4DX\\' 영접했습니다.    천만은 안되더라도 아직은 \\'미션 임파서블\\'로 회자되는 톰 크루즈에게 적어도 <탑건 매버릭>이 툭 치고 들어올 만큼의 강렬한 인상을 관객들에게 남긴 건 분명할 테니까요. 이름 모를 적을 앞에 두고 다시금 탑건 스쿨을...   17   #영화리뷰 #영화후기 #탑건매버릭 #탑건매버릭리뷰 #탑건매버릭후기 #탑건4DX #탑건매버릭4DX #톰크루즈 #마일즈텔러 #글렌포웰   영화 탑건 매버릭 보신다구요?_탑건 2 보기 전 알고 가면 더 재밌는 꿀팁 정보 9(#탑건 #탑건매버릭) [영화리뷰] 탑건: 매버릭 후기_탑건2 추앙해! 이건 천만 각이다. (쿠키)(#영화리뷰 #영화후기)   함께 볼만한 검색어  이 정보가 표시된 이유  문서를 기반으로 함께 볼만한 검색어를 분석하여 제공하는 서비스입니다.  피드백 제공하기도움말  정보확인 레이어 닫기         탑건: 매버릭   함께 볼만한 검색어 닫기   함께 볼만한 검색어  이 정보가 표시된 이유  문서를 기반으로 함께 볼만한 검색어를 분석하여 제공하는 서비스입니다.  피드백 제공하기도움말  정보확인 레이어 닫기         탑건: 매버릭   함께 볼만한 검색어 닫기   함께 볼만한 검색어  이 정보가 표시된 이유  문서를 기반으로 함께 볼만한 검색어를 분석하여 제공하는 서비스입니다.  피드백 제공하기도움말  정보확인 레이어 닫기         탑건: 매버릭   함께 볼만한 검색어 닫기      문서 저장하기  Keep에 저장 Keep 바로가기        2022.06.11.  Film life in Forest  \\'탑건: 매버릭\\' 간단 리뷰(feat. CGV영등포 스크린X)    애초에 토니 스콧처럼 영화를 찍는 건 쉬운 일이 아니다. 그럴 바에 \\'탑건\\'의 유산을 자기 식대로 \\'잘\\' 만들어서 헌정하는 게 진정한 존경이다. 조셉 코신스키에게 한 수 배우고 간다. 2. \\'탑건: 매버릭\\'은 아직도 현역에서...   6       문서 저장하기  Keep에 저장 Keep 바로가기        2022.06.28.  인생의 짐은 많을수록 불편할뿐 (空手來空手去)  톰 크루즈여서 가능한 영화 탑건 매브릭    728x90반응형 \"탑건\"이 상영 기준으로 1986년이니 36년 만에 그 후속편인 \"탑건 매브릭\"이 나온 셈이다 그때의 인물이 이어지는 내용으로 36년 뒤에 다시 출연한다는 것은 정말 톰 크루즈 아니면 불가능한 일이다 이 영화에...   5    VIEW 더보기                   정보를 가져오는 중입니다.       검색결과가 없습니다. 옵션을 재선택 하시거나 초기화 해보시기 바랍니다. 초기화      죄송합니다. 일시적인 오류입니다. 잠시 후 다시 시도해주십시오. 재시도             문서 저장하기  Keep에 저장 Keep 바로가기       namu.wiki›탑건(영화)     탑건(영화) - 나무위키          1986년에 개봉한 미국 영화. 냉전이 한창이던 시절 소련의 지원을 받는 인도양의 \\'모\\' 국가와 교전을 벌여 이긴다는 줄거리의 액션 영화다.    장르 액션 드라마   제작 빌 배덜라토 돈 심슨 제리 브룩하이머 워렌 스캐런   감독 토니 스콧   제작사 돈 심슨/제리 브룩하이머 필름스         개요   예고편   시놉시스   제작 비화   등장인물   사운드트랙   평가   흥행   영화적 배경   후속작        문서 저장하기  Keep에 저장 Keep 바로가기       namu.wiki›탑건:_매버릭     탑건: 매버릭 - 나무위키          1986년에 개봉한 영화 탑건의 후속작. 1편 탑건 이후 36년 만에 나온 후속작이다. 연출은 오블리비언 과 트론: 새로운 시작의 연출을 맡은 조셉 코신스키. 원래 2020년 개봉 예정이었으나 코로나19 팬데믹으로 인해 개봉이 연기되었으며, 수많은 영화들이 끝내 극장 개봉을 포기하고 OTT 공개로 선회하는 가운데 극장을 통한 개봉을 꿋꿋히 고수하여 무려 23개월 간 개봉을 연기한 끝에 2022년 5월 27일에 개봉했다. 이후 평단의 호평과 함께 관객몰이를 했으며 개봉 31일 만에 총합 10억 달러 흥행 돌파 영화라는 기록을 세우며 2022년 상...    장르 밀리터리 액션 드라마   제작사 돈 심슨 | 제리 브룩하이머 필름스   배급사 파라마운트 픽처스 가로형 | 롯데엔터테인먼트   개봉일 2022년 5월 18일 2022년 5월 27일 2022년 6월 22일         개요   예고편   시놉시스   등장인물   병기   줄거리   탐구   사운드트랙   평가   흥행        문서 저장하기  Keep에 저장 Keep 바로가기       namu.wiki›탑건     탑건 - 나무위키       Top Gun 각국 공군과 미합중국 해군에서 사용하는 용어. ‘최고의 총잡이’라는 뜻으로 전투기의 근접전(도그파이트)에 능한 파일럿에게 붙는 명칭이며, 미합중국 해군항공대공중전 학교의 별칭이기도 하다.        개요   \\'최고의 총잡이\\'   역사   대중매체에서   관련 인명        문서 저장하기  Keep에 저장 Keep 바로가기       movie.daum.net›moviedb     탑건 | 다음영화       탑건 Top Gun, 1986 개봉 1987.12.19 재개봉 2018.08.29 장르 액션/드라마 국가 미국 등급 12세이상관람가 , 15세이상관람가... 양성하는 ‘탑건’ 훈련학교에 입학하게 된다. 그리고 그곳에서 생도들의 교육을 담당하는 항공물리학 전문가 찰리... 시리즈 탑건: 매버릭 개봉 2022.06.22 감독 조셉 코신스키 출연 톰 크루즈, 마일스 텔러, 제니퍼 코넬리, 발 킬머, 바쉬르...           검색결과 더보기    \\n     다른 ‘탑건’을 찾으세요?          뮤직 탑건 펴고 접기                     재생  로딩중      Top Gun   에픽하이 (EPIK HIGH)2009             영화 탑건 펴고 접기            탑건   드라마1986                       뉴스  관련도순 최신순        문서 저장하기  Keep에 저장 Keep 바로가기  뉴스핌4시간 전 영화 \\'탑건: 매버릭\\' 흥행 따라 OST \\'I Ain\\'t Worried\\'도 덩달아 승승장구   \\xa0영화\\xa0\\'탑건:\\xa0매버릭\\'이\\xa0국내\\xa0누적관객수\\xa0670만명을\\xa0돌파한\\xa0가운데\\xa0OST의\\xa0인기도\\xa0동반\\xa0상승하며\\xa0\\'탑친자(탑건에\\xa0미친\\xa0사람)\\'\\xa0열풍을\\xa0이어가고\\xa0있다. 유니버설뮤직은\\xa0\\'탑건:\\xa0매버릭\\'\\xa0OST\\xa0중...       일간스포츠6시간 전네이버뉴스 ‘탑건: 매버릭’ OST, 극장가 이어 음악 차트서도 ‘탑친자’ 열풍     싱글리스트7시간 전 \\'탑건: 매버릭\\' OST도 터졌다…국내 음원차트 이례적 진입        문서 저장하기  Keep에 저장 Keep 바로가기  YTN1일 전네이버뉴스 [Y이슈] \\'탑건\\'이어 \\'한산\\'까지… 롯데엔터, 여름 극장가 흥행 연타석 성공   \\'탑건: 매버릭\\'부터 \\'한산: 용의 출현\\'까지, 롯데엔터테인먼트가 배급을 담당하는 영화 두 편이 하늘과 바다를 모두 장악하며 흥행 연타석에 성공했다. 지난달 22일 개봉한 \\'탑건: 매버릭\\'은 코로나19로 약 2년간 수차례...        문서 저장하기  Keep에 저장 Keep 바로가기  머니투데이1일 전네이버뉴스 유럽 탑건, FA-50 타고 훈련할 날 온다…KAI \\'4조원 폴란드 수출\\'   한국항공우주산업㈜(KAI)이 30억 달러(약 3조9258억원) 규모의 국산 전투기를 폴란드에 수출한다. 국내 항공기 완제품의 유럽 시장 진출은 사상 처음으로 물량과 가격 기준으로도 역대 최대 규모다. KAI는 지난 27일...        문서 저장하기  Keep에 저장 Keep 바로가기  스포츠투데이1시간 전 롯데엔터 \\'한산\\'→\\'탑건\\', 극장가 흥행 견인 [ST이슈]   롯데엔터테인먼트가 배급하고 있는 영화들이 극장가 흥행을 견인하고 있다. 먼저 27일 개봉된 영화 \\'한산: 용의 출현\\'(감독 김한민·제작 빅스톤픽쳐스, 이하 \\'한산\\')의 흥행세가 심상치 않다. 영화진흥위원회...    뉴스 더보기       지식백과         탑건Top Gun 뛰어난 전투기 조종사 매버릭의 비행과 우정, 사랑을 그린 파일럿영화     뛰어난 전투기 조종사 매버릭의 비행과 우정, 사랑을 그린 파일럿영화. 1986년 제작된 미국영화로, 빌 웨버(Bill Weber)가 제작하였으며, 토니 스콧(Tony Scott)이 감독하였다. 톰 크루즈(Tom Cruise), 켈리 맥길리스(Kelly McGillis), 발 킬머(Val Kilmer) 등이 출연하였고, 짐 캐시(Jim Cash), 잭 엡스 주니어(Jack Epps Jr.)가 각본을 썼으며, 상영시간은 110분이다. 뛰어난 전투기 조종사 매버릭 대위는 미국의 1급 전투조종사를 양성하는 탑건 훈련학교에 입학하여...   두산백과 두피디아         탑건    잔디밭_일년생잡초 · 작물분류명 : 기타 · 사용적기 : 잡초발생전 토양처리 · 희석배수(10a당 사용량) : 150㎖/10a · 안전사용기준(수확~일전) : - · 안전사용기준(~회 이내) : -  농약 등록정보         탑건    《 탑건 》( 영어: Top Gun )은 1986년 개봉한 미국의 액션 드라마 영화이다. 토니 스콧의 연출 작품으로 톰 크루즈, 켈리 맥길리스, 멕 라이언 등이 출연했다. 참고로, 탑건은 최우수 전투기 파일럿(ace fighter pilot)을 의미한다. 출연 톰 크루즈 - 피트 미첼 대위(매버릭) 켈리 맥길리스 - 샬럿 블랙우드(챨리) 앤서니 에드워즈 - 닉 브래드쇼 중위(구즈) 멕 라이언 - 캐럴 브래드쇼 발 킬머 - 톰 카잔스키 대위(아이스 맨) 릭 로소비치 - 론 커너 중위 (슬라이더) 톰 스커릿...   위키백과         지식백과 더보기              이미지    신고할 이미지를 선택 후 확인 버튼을 눌러주세요. 확인 취소   신고완료 이미지 신고하기   선택한 이미지가 없습니다. 신고할 이미지를 선택해 주세요. 정보확인 레이어 닫기          매버릭  톰크루즈  메버릭  명장면  루스터  전투기  행맨  오토바이  밥  포토티켓  해변  발킬머  페니  비행기  럭비  명대사  미식축구  1986  피닉스  스틸컷  포토카드  찰리  포토플레이  바이크  해변씬  f14  쿠키  항공점퍼  다크스타  ost  이전 다음                    영화 \\'탑건: 매버릭\\' 선개봉 후기 리뷰-괜히 톰 크루즈가 아니야                              나도 탑건 2018년 재개봉때 받은 굿즈올려봄 - 영화 카테고리                              [영화 리뷰] #8 탑건_매버릭 |  내가 비행하는 줄 | 줄거리_스포O | 톰 크루즈, 켈리 맥길리스, 마일즈 텔러, 모니카 바바로                              탑건2 매버릭 보고 왔습니다!                              내가 원래 Bar 주인이란 말이오 (탑건) : 클리앙                              영화 탑건 (1986) 리뷰 - 최고의 조종사를 향한 여정! 톰 크루즈 액션 드라마 영화                              톰 크루즈 10번째 방한, 공항 팬서비스, 탑건 메버릭 메인 예고영상                              탑건 1987/ 톰 크루즈              이미지 더보기   인플루언서이 정보가 표시된 이유네이버 인플루언서로 활동하는 창작자의 콘텐츠를 검색 결과에서 제공합니다.자세히 보기정보확인 레이어 닫기서비스 홈 바로가기마음에 든다면 팬이 되어보세요!더이상 청우님의 팬이 아닙니다.이제 알림을 받지 않습니다.청우영화 전문블로거\\nSF 장르 전문\\n팬 1.5만+미국 영화-500편 이상 리뷰\\n영화 분야 소식리뷰한 작품 수미국 영화-500편 이상 리뷰창작 분야영화 분야 소식자세히 보기블로그6톰 크루즈 주연 영화 탑건2 매버릭 12억 달러(1조 5,834억 원) 돌파\\n탑건: 매버릭 감독 조셉 코신스키 출연 톰 크루즈, 제니퍼 코넬리, 마일즈 텔러 개봉 2022. 06. 22. 영화 탑건2 매버릭은 북미는 물론 전 세계 박스오피스에서 우위를 점하고 있습니다. 이것은 미션 임파서블 폴아웃...2022.07.18.함께 볼만한 검색어이 정보가 표시된 이유문서를 기반으로 함께 볼만한 검색어를 분석하여 제공하는 서비스입니다.피드백 제공하기\\n도움말정보확인 레이어 닫기탑건: 매버릭이전다음함께 볼만한 검색어 닫기마음에 든다면 팬이 되어보세요!더이상 리쓰남님의 팬이 아닙니다.이제 알림을 받지 않습니다.리쓰남영화 전문블로거\\n드라마 장르 전문\\n팬 1.1만+미국 영화-100편 이상 리뷰\\n영화 분야 소식리뷰한 작품 수미국 영화-100편 이상 리뷰창작 분야영화 분야 소식자세히 보기블로그18요즘 볼만한 영화 탑건2 토르4 헤어질 결심 현재 상영 영화 순위\\n요즘 볼만한 영화 탑건2 토르4 헤어질 결심 현재 상영 영화 순위 요즘 볼만한 영화 최신 박스오피스 현재 상영 영화 순위입니다. 지난주 화요일을 기점으로 <탑건: 매버릭>이 <토르: 러브 앤 썬더>를 역전하며 박스오피스...2022.07.18.마음에 든다면 팬이 되어보세요!더이상 시간의마법사님의 팬이 아닙니다.이제 알림을 받지 않습니다.시간의마법사영화 전문블로거\\n로맨스 장르 전문\\n팬 8,696한국 영화-500편 이상 리뷰\\n영화 리뷰리뷰한 작품 수한국 영화-500편 이상 리뷰창작 분야영화 리뷰자세히 보기블로그17[영화리뷰] 탑건: 매버릭 후기_저도 \\'탑건 4DX\\' 영접했습니다.\\n탑건: 매버릭 감독 조셉 코신스키 출연 톰 크루즈, 마일즈 텔러, 제니퍼 코넬리 개봉 2022. 06. 22. 영화 : 탑건: 매버릭 감독 : 조셉 코신스키 출연 : 톰 크루즈, 제니퍼 코넬리, 마일즈 텔러, 존 햄, 글렌 포웰 관람일 : 2022년...2022.07.15.함께 볼만한 검색어이 정보가 표시된 이유문서를 기반으로 함께 볼만한 검색어를 분석하여 제공하는 서비스입니다.피드백 제공하기\\n도움말정보확인 레이어 닫기탑건: 매버릭이전다음함께 볼만한 검색어 닫기인플루언서 더보기그루터기그루터기그루터기그루터...님의 팬이 되었습니다.OFF\\nON알림\\n소식 알림을 받으시겠어요?닫기그루터기그루터기그루터기그루터...님의팬입니다.팬하기 취소OFF\\nON알림\\n소식 알림을 받으시겠어요?닫기음성으로 안내되고 있습니다시작음 3회 반복 후 재생새로고침\\n음성으로 듣기\\n이미지로 보기자동팬하기 방지를 위한 보안절차입니다.\\n확인닫기  이전  1 2 3 4 5 6 7 8 9 10  다음      연관 검색어도움말  신고검색어제안 기능 닫기       탑건 매버릭     영화 탑건 1     탑건 1     영화 탑건 2     탑건 2     탑건 4DX     탑건 매버릭 쿠키     탑건 쿠키영상     탑건 쿠키     탑건 4d     더보기  1주일간 닫힘 상태가 유지됩니다. 다시 보시겠습니까?열기            많이 찾아본 영화          1     한산: 용의 출현 23만명        2     미니언즈2 8만명        3     탑건: 매버릭 4.7만명        4     외계+인 1부 3.9만명        5     뽀로로 극장판 드래... 3.4만명        6     헤어질 결심 1.5만명        7     명탐정 코난: 할로윈... 5,498명        8     프리! 더 파이널 스트... 2,261명        9     비욘드 라이브 더 ... 1,648명        10     토르: 러브 앤 썬더 1,427명       이전 다음   영화진흥위원회 제공 2022.07.28.              코로나19 확진현황 및 백신·접종 정보      신속항원검사 내 주변 검사기관 찾기      코로나19 팩트체크 코로나백신 결과 보기      잔여백신예약 내 주변 잔여백신 찾기          맨위로    전체서비스 이용약관 개인정보처리방침 통합검색 고객센터 © NAVER Corp.            '"
      ]
     },
     "metadata": {},
     "output_type": "display_data"
    }
   ],
   "source": [
    "soup.text"
   ]
  },
  {
   "cell_type": "markdown",
   "id": "412b1a28-037f-49ed-b546-207915e1d56e",
   "metadata": {
    "id": "412b1a28-037f-49ed-b546-207915e1d56e"
   },
   "source": [
    "# 브라우저를 통한 웹페이지 제어"
   ]
  },
  {
   "cell_type": "code",
   "execution_count": null,
   "id": "a41ee644-a378-45c4-b735-3082777c0787",
   "metadata": {
    "id": "a41ee644-a378-45c4-b735-3082777c0787"
   },
   "outputs": [
    {
     "name": "stderr",
     "output_type": "stream",
     "text": [
      "C:\\Users\\SOOBIN\\AppData\\Local\\Temp\\ipykernel_12200\\717181735.py:3: DeprecationWarning: executable_path has been deprecated, please pass in a Service object\n",
      "  driver = webdriver.Chrome('./chromedriver.exe')\n"
     ]
    },
    {
     "name": "stdout",
     "output_type": "stream",
     "text": [
      "번역할 내용을 입력하세요:  Studying Python is exciting!\n"
     ]
    }
   ],
   "source": [
    "from selenium.webdriver.common.by import By\n",
    "from bs4 import BeautifulSoup as bs\n",
    "driver = webdriver.Chrome('./chromedriver.exe')\n",
    "papago = 'https://papago.naver.com/'\n",
    "driver.get(papago)\n",
    "time.sleep(1)\n",
    "search_text = input('번역할 내용을 입력하세요: ')\n",
    "driver.find_element(By.ID, 'txtSource').send_keys(search_text)\n",
    "driver.find_element(By.ID, 'btnTranslate').click()\n",
    "time.sleep(1)\n",
    "html = driver.page_source\n",
    "soup = bs(html, 'html.parser')\n",
    "time.sleep(3)\n",
    "result = driver.find_element(By.ID, 'txtTarget')\n",
    "result = result.text\n",
    "driver.close() #꼭 꺼주기"
   ]
  },
  {
   "cell_type": "code",
   "execution_count": null,
   "id": "6438f491-8f94-4f7b-832d-415337e879b3",
   "metadata": {},
   "outputs": [
    {
     "data": {
      "text/plain": [
       "'파이썬을 공부하는 것은 신나는 일입니다!'"
      ]
     },
     "metadata": {},
     "output_type": "display_data"
    }
   ],
   "source": [
    "result"
   ]
  },
  {
   "cell_type": "markdown",
   "id": "5529c75d-38dd-43a6-bbe6-b1cd83b8e2b1",
   "metadata": {
    "id": "5529c75d-38dd-43a6-bbe6-b1cd83b8e2b1"
   },
   "source": [
    "# 파파고 번역기"
   ]
  },
  {
   "cell_type": "code",
   "execution_count": null,
   "id": "c198a2d3-c037-48e2-9fdf-cdf9819eff5c",
   "metadata": {
    "id": "c198a2d3-c037-48e2-9fdf-cdf9819eff5c"
   },
   "outputs": [],
   "source": []
  },
  {
   "cell_type": "markdown",
   "id": "c595d5fa-899d-4239-8578-648f2a834d67",
   "metadata": {
    "id": "c595d5fa-899d-4239-8578-648f2a834d67"
   },
   "source": [
    "##### 대상 사이트 살펴보기\n",
    "\n",
    "\n",
    "\n",
    "1. 동적 크롤링 진행 순서\n",
    "   1. 번역할 내용 입력\n",
    "   2. 번역 버튼 클릭\n",
    "   3. 번역 결과 수집\n",
    "2. 필요한 요소의 태그, 선택자 확인\n",
    "\n",
    "바로 clear() 함수를 사용해 HTML 요소를 초기화한다.\n",
    "\n"
   ]
  },
  {
   "cell_type": "code",
   "execution_count": null,
   "id": "3d31d137-4c03-4547-9d18-8da70a2a1a73",
   "metadata": {
    "id": "3d31d137-4c03-4547-9d18-8da70a2a1a73"
   },
   "outputs": [],
   "source": []
  },
  {
   "cell_type": "markdown",
   "id": "9990fe53-0bed-4dcd-a564-07a570e7e5a7",
   "metadata": {
    "id": "9990fe53-0bed-4dcd-a564-07a570e7e5a7"
   },
   "source": [
    "# 네이버 로그인"
   ]
  },
  {
   "cell_type": "code",
   "execution_count": null,
   "id": "dd192738-cab6-47e2-917e-a2cf3aa3694f",
   "metadata": {
    "id": "dd192738-cab6-47e2-917e-a2cf3aa3694f"
   },
   "outputs": [],
   "source": [
    "from selenium.webdriver import Chrome\n",
    "from selenium.webdriver.common.by import By\n",
    "from selenium.webdriver.common.keys import Keys\n",
    "from selenium.webdriver.common.action_chains import ActionChains\n",
    "import pyperclip\n",
    "import time"
   ]
  },
  {
   "cell_type": "code",
   "execution_count": null,
   "id": "48350861-4381-41e5-a27e-c020a7581bc7",
   "metadata": {
    "id": "48350861-4381-41e5-a27e-c020a7581bc7"
   },
   "outputs": [],
   "source": []
  },
  {
   "cell_type": "code",
   "execution_count": null,
   "id": "fa209833-0bc3-4a78-bd42-4fae210c1998",
   "metadata": {
    "id": "fa209833-0bc3-4a78-bd42-4fae210c1998"
   },
   "outputs": [],
   "source": []
  }
 ],
 "metadata": {
  "kernelspec": {
   "display_name": "Python 3.9.13 64-bit (windows store)",
   "language": "python",
   "name": "python3"
  },
  "language_info": {
   "name": "python",
   "version": "3.9.13"
  },
  "orig_nbformat": 4,
  "vscode": {
   "interpreter": {
    "hash": "301a16847614d6a03dd2d00bc53ed352d5cd25a1117ed2fb35992ecc306ccc50"
   }
  }
 },
 "nbformat": 4,
 "nbformat_minor": 2
}
