{
  "cells": [
    {
      "cell_type": "markdown",
      "metadata": {
        "id": "view-in-github",
        "colab_type": "text"
      },
      "source": [
        "<a href=\"https://colab.research.google.com/github/jo-soobin/crawling_study/blob/master/0_%EB%A9%80%ED%8B%B0%EC%8A%A4%EB%A0%88%EB%94%A9.ipynb\" target=\"_parent\"><img src=\"https://colab.research.google.com/assets/colab-badge.svg\" alt=\"Open In Colab\"/></a>"
      ]
    },
    {
      "cell_type": "code",
      "execution_count": null,
      "id": "180be7b2-b5f4-4a4c-b823-0a6ada384678",
      "metadata": {
        "id": "180be7b2-b5f4-4a4c-b823-0a6ada384678"
      },
      "outputs": [],
      "source": [
        "# Threading(쓰레딩) vs Multiprocessing\n",
        "# https://yeonfamily.tistory.com/3\n",
        "# https://chacha95.github.io/2020-12-19-python4/"
      ]
    },
    {
      "cell_type": "markdown",
      "id": "9b21cb3e-4d1d-4f3d-be14-0dc4fd0f299c",
      "metadata": {
        "id": "9b21cb3e-4d1d-4f3d-be14-0dc4fd0f299c"
      },
      "source": [
        "# Threading\n",
        "- 가벼운 프로세스 라고 하는 스레드는 프로세스 안에서 실행되는 단위\n",
        "- 하나의 프로세스 안에 스레드가 여러개 존재가능\n",
        "    - 하나의 프로세스에 하나의 스레드만 존재한다면 싱글 스레드 프로세스 두개 이상의 스레드가 존재한다면 멀티스레드 프로세스"
      ]
    },
    {
      "cell_type": "markdown",
      "id": "1f2d9d8c-1c2a-4b3f-9e5a-bd011e5226b9",
      "metadata": {
        "id": "1f2d9d8c-1c2a-4b3f-9e5a-bd011e5226b9"
      },
      "source": [
        "<img src= \"https://user-images.githubusercontent.com/31475037/103182666-9db27000-48f0-11eb-986a-23fa66954a74.png\">"
      ]
    },
    {
      "cell_type": "markdown",
      "id": "12271677-d497-44c0-9215-5729af427555",
      "metadata": {
        "id": "12271677-d497-44c0-9215-5729af427555"
      },
      "source": [
        "- 하나의 프로세스 안에 있는 스레드들은 각각 독립적으로 스택을 가지고 실행되지만, 코드와 데이터는 공유한다. \n",
        "- 스레드의 실행은 어느 시점에서라도 중단되고 다른 스레드로 실행권이 넘어갈수 있다. \n",
        "- 스레드의 실행은 독립적이어서 다른 스레드와의 실행 순서에 관한 어떠한 가정도 할 수 없다."
      ]
    },
    {
      "cell_type": "markdown",
      "id": "261f3d82-97b0-47dc-8707-cc2d9cc4f7d8",
      "metadata": {
        "id": "261f3d82-97b0-47dc-8707-cc2d9cc4f7d8"
      },
      "source": [
        "## 파이썬의 스레드\n",
        "- 파이썬은 내부적으로 전역 인터프리터 록(GIL)을 사용한다.\n",
        "    - 즉, 시스템 하나에서 스레드 하나만 실행되도록 제한한다. \n",
        "    - 따라서 여러 개의 코어가 있어도 파이썬 스레드는 하나의 코어에서만 실행된다.\n",
        "    - GIL에 따른 동시성 처리\n",
        "    <img src=\"https://user-images.githubusercontent.com/31475037/103119579-4a091200-46b7-11eb-889e-18ad6c426dd4.png\">\n",
        "- 대신 여러 개의 코어를 활용할 수 있는 multiprocessing 모듈을 제공한다.\n",
        "    - 이 모듈은 당연히 멀티프로세싱을 지원하는 모듈로 Threading 모듈과 유사한 인터페이스를 제공\n",
        "    - 여러 개의 코어에서 병렬로 프로세스들이 실행하게 된다.\n",
        "    - multiprocessing 에 따른 병렬처리\n",
        "    <img src=\"https://user-images.githubusercontent.com/31475037/103119580-4aa1a880-46b7-11eb-9e63-30abea28f786.png\">"
      ]
    },
    {
      "cell_type": "code",
      "execution_count": null,
      "id": "7fb38260-72e8-4ee9-90d6-0418884d4068",
      "metadata": {
        "id": "7fb38260-72e8-4ee9-90d6-0418884d4068"
      },
      "outputs": [],
      "source": [
        ""
      ]
    }
  ],
  "metadata": {
    "kernelspec": {
      "display_name": "Python 3 (ipykernel)",
      "language": "python",
      "name": "python3"
    },
    "language_info": {
      "codemirror_mode": {
        "name": "ipython",
        "version": 3
      },
      "file_extension": ".py",
      "mimetype": "text/x-python",
      "name": "python",
      "nbconvert_exporter": "python",
      "pygments_lexer": "ipython3",
      "version": "3.9.12"
    },
    "colab": {
      "name": "0.멀티스레딩.ipynb",
      "provenance": [],
      "include_colab_link": true
    }
  },
  "nbformat": 4,
  "nbformat_minor": 5
}